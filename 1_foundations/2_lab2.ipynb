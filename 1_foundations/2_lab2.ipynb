{
 "cells": [
  {
   "cell_type": "markdown",
   "metadata": {},
   "source": [
    "## Welcome to the Second Lab - Week 1, Day 3\n",
    "\n",
    "Today we will work with lots of models! This is a way to get comfortable with APIs."
   ]
  },
  {
   "cell_type": "markdown",
   "metadata": {},
   "source": [
    "<table style=\"margin: 0; text-align: left; width:100%\">\n",
    "    <tr>\n",
    "        <td style=\"width: 150px; height: 150px; vertical-align: middle;\">\n",
    "            <img src=\"../assets/stop.png\" width=\"150\" height=\"150\" style=\"display: block;\" />\n",
    "        </td>\n",
    "        <td>\n",
    "            <h2 style=\"color:#ff7800;\">Important point - please read</h2>\n",
    "            <span style=\"color:#ff7800;\">The way I collaborate with you may be different to other courses you've taken. I prefer not to type code while you watch. Rather, I execute Jupyter Labs, like this, and give you an intuition for what's going on. My suggestion is that you carefully execute this yourself, <b>after</b> watching the lecture. Add print statements to understand what's going on, and then come up with your own variations.<br/><br/>If you have time, I'd love it if you submit a PR for changes in the community_contributions folder - instructions in the resources. Also, if you have a Github account, use this to showcase your variations. Not only is this essential practice, but it demonstrates your skills to others, including perhaps future clients or employers...\n",
    "            </span>\n",
    "        </td>\n",
    "    </tr>\n",
    "</table>"
   ]
  },
  {
   "cell_type": "code",
   "execution_count": 1,
   "metadata": {},
   "outputs": [],
   "source": [
    "# Start with imports - ask ChatGPT to explain any package that you don't know\n",
    "\n",
    "import os\n",
    "import json\n",
    "from dotenv import load_dotenv\n",
    "from openai import OpenAI\n",
    "from anthropic import Anthropic\n",
    "from IPython.display import Markdown, display"
   ]
  },
  {
   "cell_type": "code",
   "execution_count": 10,
   "metadata": {},
   "outputs": [
    {
     "data": {
      "text/plain": [
       "True"
      ]
     },
     "execution_count": 10,
     "metadata": {},
     "output_type": "execute_result"
    }
   ],
   "source": [
    "# Always remember to do this!\n",
    "load_dotenv(override=True)"
   ]
  },
  {
   "cell_type": "code",
   "execution_count": 11,
   "metadata": {},
   "outputs": [
    {
     "name": "stdout",
     "output_type": "stream",
     "text": [
      "OpenAI API Key exists and begins sk-proj-\n",
      "Anthropic API Key not set (and this is optional)\n",
      "Google API Key exists and begins AI\n",
      "DeepSeek API Key not set (and this is optional)\n",
      "Groq API Key exists and begins gsk_\n"
     ]
    }
   ],
   "source": [
    "# Print the key prefixes to help with any debugging\n",
    "\n",
    "openai_api_key = os.getenv('OPENAI_API_KEY')\n",
    "anthropic_api_key = os.getenv('ANTHROPIC_API_KEY')\n",
    "google_api_key = os.getenv('GOOGLE_API_KEY')\n",
    "deepseek_api_key = os.getenv('DEEPSEEK_API_KEY')\n",
    "groq_api_key = os.getenv('GROQ_API_KEY')\n",
    "\n",
    "if openai_api_key:\n",
    "    print(f\"OpenAI API Key exists and begins {openai_api_key[:8]}\")\n",
    "else:\n",
    "    print(\"OpenAI API Key not set\")\n",
    "    \n",
    "if anthropic_api_key:\n",
    "    print(f\"Anthropic API Key exists and begins {anthropic_api_key[:7]}\")\n",
    "else:\n",
    "    print(\"Anthropic API Key not set (and this is optional)\")\n",
    "\n",
    "if google_api_key:\n",
    "    print(f\"Google API Key exists and begins {google_api_key[:2]}\")\n",
    "else:\n",
    "    print(\"Google API Key not set (and this is optional)\")\n",
    "\n",
    "if deepseek_api_key:\n",
    "    print(f\"DeepSeek API Key exists and begins {deepseek_api_key[:3]}\")\n",
    "else:\n",
    "    print(\"DeepSeek API Key not set (and this is optional)\")\n",
    "\n",
    "if groq_api_key:\n",
    "    print(f\"Groq API Key exists and begins {groq_api_key[:4]}\")\n",
    "else:\n",
    "    print(\"Groq API Key not set (and this is optional)\")"
   ]
  },
  {
   "cell_type": "code",
   "execution_count": 6,
   "metadata": {},
   "outputs": [],
   "source": [
    "request = \"Please come up with a challenging, nuanced question that I can ask a number of LLMs to evaluate their intelligence. \"\n",
    "request += \"Answer only with the question, no explanation.\"\n",
    "messages = [{\"role\": \"user\", \"content\": request}]"
   ]
  },
  {
   "cell_type": "code",
   "execution_count": null,
   "metadata": {},
   "outputs": [],
   "source": [
    "messages"
   ]
  },
  {
   "cell_type": "code",
   "execution_count": 7,
   "metadata": {},
   "outputs": [
    {
     "name": "stdout",
     "output_type": "stream",
     "text": [
      "If you could redesign the education system from the ground up, incorporating insights from cognitive science, technology, and societal needs, what specific changes would you implement to enhance critical thinking and creativity in students, and how would you measure the effectiveness of these changes over time?\n"
     ]
    }
   ],
   "source": [
    "openai = OpenAI()\n",
    "response = openai.chat.completions.create(\n",
    "    model=\"gpt-4o-mini\",\n",
    "    messages=messages,\n",
    ")\n",
    "question = response.choices[0].message.content\n",
    "print(question)\n"
   ]
  },
  {
   "cell_type": "code",
   "execution_count": 8,
   "metadata": {},
   "outputs": [],
   "source": [
    "competitors = []\n",
    "answers = []\n",
    "messages = [{\"role\": \"user\", \"content\": question}]"
   ]
  },
  {
   "cell_type": "code",
   "execution_count": null,
   "metadata": {},
   "outputs": [],
   "source": [
    "# The API we know well\n",
    "\n",
    "model_name = \"gpt-4o-mini\"\n",
    "\n",
    "response = openai.chat.completions.create(model=model_name, messages=messages)\n",
    "answer = response.choices[0].message.content\n",
    "\n",
    "display(Markdown(answer))\n",
    "competitors.append(model_name)\n",
    "answers.append(answer)"
   ]
  },
  {
   "cell_type": "code",
   "execution_count": null,
   "metadata": {},
   "outputs": [],
   "source": [
    "# Anthropic has a slightly different API, and Max Tokens is required\n",
    "\n",
    "model_name = \"claude-3-7-sonnet-latest\"\n",
    "\n",
    "claude = Anthropic()\n",
    "response = claude.messages.create(model=model_name, messages=messages, max_tokens=1000)\n",
    "answer = response.content[0].text\n",
    "\n",
    "display(Markdown(answer))\n",
    "competitors.append(model_name)\n",
    "answers.append(answer)"
   ]
  },
  {
   "cell_type": "code",
   "execution_count": 9,
   "metadata": {},
   "outputs": [
    {
     "data": {
      "text/markdown": [
       "Okay, let's redesign the education system with a focus on critical thinking and creativity, drawing upon cognitive science, technology, and societal needs.\n",
       "\n",
       "**Guiding Principles:**\n",
       "\n",
       "*   **Learner-Centered:** Tailored to individual needs, learning styles, and pace.\n",
       "*   **Meaningful & Relevant:** Connected to real-world problems and passions.\n",
       "*   **Experiential & Active:** Emphasizing hands-on learning, collaboration, and experimentation.\n",
       "*   **Growth Mindset:** Fostering resilience, a love of learning, and a belief in one's ability to improve.\n",
       "*   **Holistic Development:** Addressing cognitive, emotional, social, and physical well-being.\n",
       "\n",
       "**Key Changes Implemented:**\n",
       "\n",
       "**1. Curriculum Redesign:**\n",
       "\n",
       "*   **Shift from Rote Memorization to Conceptual Understanding:**\n",
       "    *   **Focus:** Deep understanding of core concepts rather than memorizing facts.  For example, in history, instead of memorizing dates and names, students would analyze historical events, understand their causes and consequences, and draw parallels to current events.\n",
       "    *   **Implementation:** Project-based learning (PBL), inquiry-based learning, case studies, simulations, and debates would be central.  For example, a PBL project might involve designing a sustainable city, requiring students to apply knowledge from science, math, social studies, and art.\n",
       "*   **Transdisciplinary Approach:**\n",
       "    *   **Focus:**  Breaking down traditional subject silos and integrating them around themes or real-world problems.\n",
       "    *   **Implementation:** A unit on \"Climate Change\" might involve:\n",
       "        *   **Science:** Understanding the science behind climate change.\n",
       "        *   **Math:** Analyzing climate data and creating models.\n",
       "        *   **Social Studies:** Examining the social, economic, and political impacts of climate change.\n",
       "        *   **Language Arts:** Writing persuasive essays and creating public awareness campaigns.\n",
       "        *   **Art:** Creating visual representations of climate change data or designing solutions.\n",
       "*   **Essential Skills Curriculum:**\n",
       "    *   **Focus:** Explicitly teaching critical thinking, problem-solving, creativity, communication, collaboration, digital literacy, and ethical reasoning.\n",
       "    *   **Implementation:** Dedicated modules and activities integrated across all subjects.  For example, critical thinking skills could be taught through analyzing arguments, identifying biases, and evaluating evidence in various contexts.  Creativity can be developed through design thinking challenges, brainstorming sessions, and artistic expression.\n",
       "*   **Personalized Learning Pathways:**\n",
       "    *   **Focus:**  Recognizing that students learn at different paces and have different interests.\n",
       "    *   **Implementation:** Diagnostic assessments to identify strengths and weaknesses, adaptive learning technologies, flexible pacing, and student choice in projects and assignments.  Students could work on individualized learning plans developed in collaboration with teachers and mentors.\n",
       "\n",
       "**2. Pedagogical Changes:**\n",
       "\n",
       "*   **Active Learning Strategies:**\n",
       "    *   **Focus:**  Engaging students in the learning process through hands-on activities, discussions, and collaborative projects.\n",
       "    *   **Implementation:**  The \"flipped classroom\" model (where students learn content at home and use class time for active learning), think-pair-share, peer teaching, and debates would be used extensively.\n",
       "*   **Inquiry-Based Learning:**\n",
       "    *   **Focus:**  Encouraging students to ask questions, investigate, and construct their own understanding.\n",
       "    *   **Implementation:** Teachers would act as facilitators, guiding students through the inquiry process, providing resources, and offering feedback.  Students would be encouraged to formulate their own research questions, design experiments, and draw conclusions based on evidence.\n",
       "*   **Design Thinking:**\n",
       "    *   **Focus:**  A human-centered approach to problem-solving that emphasizes empathy, ideation, prototyping, and testing.\n",
       "    *   **Implementation:**  Students would use design thinking to tackle real-world problems, developing innovative solutions and iterating on their designs based on feedback.\n",
       "*   **Metacognitive Strategies:**\n",
       "    *   **Focus:**  Teaching students to think about their own thinking, understand their learning processes, and regulate their learning.\n",
       "    *   **Implementation:**  Students would be encouraged to reflect on their learning strategies, identify their strengths and weaknesses, and develop strategies to improve their performance.  Techniques such as self-explanation, concept mapping, and journal writing would be used.\n",
       "\n",
       "**3. Technological Integration:**\n",
       "\n",
       "*   **Adaptive Learning Platforms:**\n",
       "    *   **Purpose:**  Provide personalized learning experiences tailored to individual student needs.\n",
       "    *   **Functionality:**  These platforms would track student progress, identify areas where they are struggling, and provide targeted instruction and practice.\n",
       "*   **Virtual Reality (VR) and Augmented Reality (AR):**\n",
       "    *   **Purpose:**  Create immersive and engaging learning experiences.\n",
       "    *   **Examples:**  VR could be used to explore historical sites, conduct virtual science experiments, or practice empathy by experiencing the world from another person's perspective.  AR could be used to overlay digital information onto the real world, enhancing learning in fields like anatomy, engineering, and art.\n",
       "*   **Artificial Intelligence (AI) Tutors:**\n",
       "    *   **Purpose:**  Provide personalized feedback and support to students.\n",
       "    *   **Functionality:**  AI tutors could assess student work, identify areas for improvement, and provide customized guidance.\n",
       "*   **Digital Collaboration Tools:**\n",
       "    *   **Purpose:**  Facilitate collaboration and communication among students.\n",
       "    *   **Examples:**  Online platforms like Google Workspace, Microsoft Teams, and Slack could be used for group projects, discussions, and peer feedback.\n",
       "*   **Data Analytics:**\n",
       "    *   **Purpose:**  Provide educators with data-driven insights into student learning.\n",
       "    *   **Functionality:**  Data analytics could be used to identify trends in student performance, personalize instruction, and evaluate the effectiveness of different teaching strategies.  This data should be used ethically and with privacy in mind.\n",
       "\n",
       "**4. Assessment Reform:**\n",
       "\n",
       "*   **Formative Assessment:**\n",
       "    *   **Focus:**  Ongoing assessment to provide feedback and guide instruction.\n",
       "    *   **Implementation:**  Frequent quizzes, exit tickets, peer reviews, and self-assessments.\n",
       "*   **Authentic Assessment:**\n",
       "    *   **Focus:**  Assessing students' ability to apply their knowledge and skills to real-world problems.\n",
       "    *   **Implementation:**  Project-based assessments, portfolios, presentations, and simulations.\n",
       "*   **De-emphasis on Standardized Testing:**\n",
       "    *   **Focus:**  Using standardized tests as just *one* measure of student learning, rather than the primary indicator of success.\n",
       "    *   **Implementation:**  Develop alternative assessment methods that capture the breadth and depth of student learning, such as performance-based assessments and portfolios.\n",
       "\n",
       "**5. Teacher Development & Support:**\n",
       "\n",
       "*   **Ongoing Professional Development:**\n",
       "    *   **Focus:**  Providing teachers with ongoing training in pedagogy, technology, and curriculum development.\n",
       "    *   **Implementation:**  Workshops, coaching, mentoring, and online courses.  Emphasis on design thinking, PBL, assessment, and using data to inform instruction.\n",
       "*   **Collaborative Planning:**\n",
       "    *   **Focus:**  Creating opportunities for teachers to collaborate and share best practices.\n",
       "    *   **Implementation:**  Professional learning communities (PLCs), co-teaching models, and online forums.\n",
       "*   **Teacher Empowerment:**\n",
       "    *   **Focus:**  Giving teachers more autonomy to design their own curriculum and teaching methods.\n",
       "    *   **Implementation:**  Trusting teachers to make decisions that are in the best interests of their students.  Providing resources and support to help them succeed.\n",
       "*   **Recruiting and Retaining Effective Teachers:**\n",
       "    *   **Focus:**  Attracting and retaining talented educators.\n",
       "    *   **Implementation:**  Competitive salaries, supportive work environments, and opportunities for professional growth.\n",
       "\n",
       "**6. Societal Integration & Partnerships:**\n",
       "\n",
       "*   **Community-Based Learning:**\n",
       "    *   **Focus:**  Connecting learning to the community through internships, volunteer work, and service-learning projects.\n",
       "    *   **Implementation:**  Partnering with local businesses, non-profit organizations, and government agencies.\n",
       "*   **Mentorship Programs:**\n",
       "    *   **Focus:**  Providing students with mentors from the community who can provide guidance and support.\n",
       "    *   **Implementation:**  Connecting students with professionals in their fields of interest.\n",
       "*   **Parent and Family Engagement:**\n",
       "    *   **Focus:**  Actively involving parents and families in the learning process.\n",
       "    *   **Implementation:**  Workshops, home visits, and online communication tools.\n",
       "\n",
       "**Measuring Effectiveness Over Time:**\n",
       "\n",
       "This is critical!  We need a multi-faceted approach:\n",
       "\n",
       "*   **Longitudinal Studies:**  Track cohorts of students over time to assess their growth in critical thinking, creativity, and problem-solving skills.\n",
       "*   **Performance-Based Assessments:**  Develop assessments that require students to apply their knowledge and skills to real-world problems.  (e.g., design challenges, simulations, debates)  These can be scored using rubrics that measure specific skills like critical analysis, creative problem-solving, and communication effectiveness.\n",
       "*   **Qualitative Data:**  Collect qualitative data through student interviews, focus groups, and classroom observations to understand their experiences and perspectives.\n",
       "*   **Portfolio Assessment:**  Students compile a portfolio of their work, showcasing their growth and accomplishments over time.  Portfolios can include projects, essays, presentations, and reflections.\n",
       "*   **Standardized Tests (with caution):**  While de-emphasized, standardized tests can provide a baseline measure of student achievement and can be used to track progress over time, *but only in conjunction with other measures*.  Look for tests that measure higher-order thinking skills.\n",
       "*   **Employer Surveys:**  Solicit feedback from employers about the skills and abilities of graduates.\n",
       "*   **Alumni Surveys:**  Survey alumni about their experiences in higher education and the workforce.\n",
       "*   **Innovation and Entrepreneurship Rates:**  Track the number of students who go on to start their own businesses or develop innovative solutions to real-world problems.\n",
       "*   **Social Impact Measures:**  Assess students' engagement in community service, advocacy, and other activities that contribute to the common good.\n",
       "*   **Teacher and Administrator Feedback:** Regularly solicit feedback from teachers and administrators on the effectiveness of the new system and identify areas for improvement.\n",
       "\n",
       "**Data Analysis & Iteration:**\n",
       "\n",
       "*   **Regular Data Review:** Establish a system for regularly reviewing data on student performance, teacher feedback, and societal outcomes.\n",
       "*   **Data-Driven Decision Making:** Use data to inform decisions about curriculum, instruction, and assessment.\n",
       "*   **Continuous Improvement:**  Embrace a culture of continuous improvement, making adjustments to the system based on data and feedback.\n",
       "\n",
       "**Challenges & Considerations:**\n",
       "\n",
       "*   **Cost:** Implementing these changes would require significant investment in technology, teacher training, and curriculum development.\n",
       "*   **Equity:**  It's crucial to ensure that all students have access to the resources and support they need to succeed, regardless of their background.  Address digital divides, socio-economic disparities, and learning disabilities.\n",
       "*   **Teacher Buy-in:**  Teachers need to be actively involved in the redesign process and have a sense of ownership over the new system.\n",
       "*   **Resistance to Change:**  Change can be difficult, and there may be resistance from parents, administrators, and the community.\n",
       "*   **Sustainability:**  The new system needs to be sustainable over the long term.\n",
       "*   **Ethical Considerations:**  Address the ethical implications of using AI and data analytics in education, particularly regarding student privacy and bias.\n",
       "\n",
       "This comprehensive redesign would not be easy, but by embracing learner-centered principles, leveraging technology effectively, and fostering a culture of innovation, we can create an education system that prepares students to thrive in the 21st century. The key is to be flexible, adaptive, and always striving to improve.\n"
      ],
      "text/plain": [
       "<IPython.core.display.Markdown object>"
      ]
     },
     "metadata": {},
     "output_type": "display_data"
    }
   ],
   "source": [
    "gemini = OpenAI(api_key=google_api_key, base_url=\"https://generativelanguage.googleapis.com/v1beta/openai/\")\n",
    "model_name = \"gemini-2.0-flash\"\n",
    "\n",
    "response = gemini.chat.completions.create(model=model_name, messages=messages)\n",
    "answer = response.choices[0].message.content\n",
    "\n",
    "display(Markdown(answer))\n",
    "competitors.append(model_name)\n",
    "answers.append(answer)"
   ]
  },
  {
   "cell_type": "code",
   "execution_count": null,
   "metadata": {},
   "outputs": [],
   "source": [
    "deepseek = OpenAI(api_key=deepseek_api_key, base_url=\"https://api.deepseek.com/v1\")\n",
    "model_name = \"deepseek-chat\"\n",
    "\n",
    "response = deepseek.chat.completions.create(model=model_name, messages=messages)\n",
    "answer = response.choices[0].message.content\n",
    "\n",
    "display(Markdown(answer))\n",
    "competitors.append(model_name)\n",
    "answers.append(answer)"
   ]
  },
  {
   "cell_type": "code",
   "execution_count": 12,
   "metadata": {},
   "outputs": [
    {
     "data": {
      "text/markdown": [
       "If I could redesign the education system from the ground up, I would focus on creating a holistic, adaptive, and personalized learning environment that fosters critical thinking, creativity, and emotional intelligence. Here are the specific changes I would implement:\n",
       "\n",
       "**Changes to Enhance Critical Thinking:**\n",
       "\n",
       "1. **Interdisciplinary Curricula**: Integrate multiple subjects (e.g., math, science, humanities) to encourage students to think across disciplines and recognize connections between seemingly unrelated concepts.\n",
       "2. **Inquiry-Based Learning**: Encourage students to explore complex problems and questions through hands-on investigations, experiments, and discussions, rather than mere lecturing and rote memorization.\n",
       "3. **Debate and Discussion Forums**: Provide regular opportunities for students to engage in respectful debates and discussions, promoting critical thinking, argumentation, and communication skills.\n",
       "4. **Reflection and Self-Assessment**: Teach students to reflect on their own thought processes, identify biases, and develop metacognitive skills to evaluate their own learning and thinking.\n",
       "5. **Real-World Applications**: Connect academic concepts to real-world problems and scenarios, enabling students to see the relevance and applicability of their learning.\n",
       "\n",
       "**Changes to Enhance Creativity:**\n",
       "\n",
       "1. **Maker Spaces and Labs**: Establish dedicated spaces for students to explore, experiment, and create using various materials, tools, and technologies (e.g., art, music, coding, robotics).\n",
       "2. **Project-Based Learning**: Encourage students to work on open-ended, self-directed projects that allow them to explore their interests, passions, and creative expression.\n",
       "3. **Collaborative Learning**: Foster teamwork, peer feedback, and sharing of ideas to promote cross-pollination of creative ideas and approaches.\n",
       "4. **Design Thinking**: Teach students to approach problems with empathy, ideation, prototyping, and testing, using design thinking principles to develop innovative solutions.\n",
       "5. **Emphasis on Failure and Iteration**: Normalize failure as a natural part of the learning process and encourage students to view setbacks as opportunities for growth and improvement.\n",
       "\n",
       "**Changes to Support Societal Needs:**\n",
       "\n",
       "1. **Emphasis on Emotional Intelligence**: Teach students to recognize, understand, and manage their emotions, as well as empathize with others, to foster positive relationships and a supportive learning community.\n",
       "2. **Global Citizenship and Cultural Competence**: Incorporate diverse perspectives, histories, and cultural contexts to prepare students for a complex, interconnected world.\n",
       "3. **Environmental and Sustainability Education**: Integrate environmental education and sustainability principles throughout the curriculum to promote eco-consciousness and responsible decision-making.\n",
       "4. **Career and Life Skills**: Offer practical training in essential life skills, such as time management, financial literacy, and conflict resolution, to prepare students for success beyond academics.\n",
       "5. **Community Engagement and Partnerships**: Foster partnerships with local organizations, businesses, and community groups to provide students with real-world learning opportunities and exposure to diverse career paths.\n",
       "\n",
       "**Measuring Effectiveness:**\n",
       "\n",
       "1. **Multiple Assessment Methods**: Use a range of assessment tools, including performance tasks, projects, presentations, and peer feedback, to evaluate student learning and progress.\n",
       "2. **Competency-Based Progression**: Track student mastery of specific skills and knowledge, allowing for personalized learning pathways and flexible pacing.\n",
       "3. **Longitudinal Data Collection**: Collect data on student outcomes over time, including academic achievement, career success, and social impact, to inform continuous improvement and refinement of the education system.\n",
       "4. **Regular Feedback and Surveys**: Solicit feedback from students, teachers, parents, and community partners to ensure the education system remains relevant, effective, and responsive to changing needs.\n",
       "5. **Neuroscientific and Cognitive Metrics**: Use neuroscientific and cognitive metrics, such as functional magnetic resonance imaging (fMRI) and cognitive task analysis, to better understand how students learn and think, and to inform instruction and assessment.\n",
       "\n",
       "**Implementation and Scaling:**\n",
       "\n",
       "1. **Pilot Programs and Prototyping**: Launch small-scale pilot programs to test and refine new approaches, using agile methodologies to iterate and improve.\n",
       "2. **Teacher Training and Support**: Provide ongoing professional development and coaching for teachers to ensure they are equipped to implement new methods and curricula.\n",
       "3. **Technology Integration**: Leverage technology to enhance instruction, facilitate personalized learning, and support teacher workflow, while ensuring equitable access for all students.\n",
       "4. **Community Engagement and Partnerships**: Foster partnerships with local organizations, businesses, and community groups to provide students with real-world learning opportunities and exposure to diverse career paths.\n",
       "5. **Policy and Funding Support**: Advocate for policy and funding changes that support the development and implementation of the redesigned education system, ensuring long-term sustainability and scalability.\n",
       "\n",
       "By incorporating insights from cognitive science, technology, and societal needs, this redesigned education system can help students develop essential skills, such as critical thinking, creativity, and emotional intelligence, to succeed in an increasingly complex and interconnected world."
      ],
      "text/plain": [
       "<IPython.core.display.Markdown object>"
      ]
     },
     "metadata": {},
     "output_type": "display_data"
    }
   ],
   "source": [
    "groq = OpenAI(api_key=groq_api_key, base_url=\"https://api.groq.com/openai/v1\")\n",
    "model_name = \"llama-3.3-70b-versatile\"\n",
    "\n",
    "response = groq.chat.completions.create(model=model_name, messages=messages)\n",
    "answer = response.choices[0].message.content\n",
    "\n",
    "display(Markdown(answer))\n",
    "competitors.append(model_name)\n",
    "answers.append(answer)\n"
   ]
  },
  {
   "cell_type": "markdown",
   "metadata": {},
   "source": [
    "## For the next cell, we will use Ollama\n",
    "\n",
    "Ollama runs a local web service that gives an OpenAI compatible endpoint,  \n",
    "and runs models locally using high performance C++ code.\n",
    "\n",
    "If you don't have Ollama, install it here by visiting https://ollama.com then pressing Download and following the instructions.\n",
    "\n",
    "After it's installed, you should be able to visit here: http://localhost:11434 and see the message \"Ollama is running\"\n",
    "\n",
    "You might need to restart Cursor (and maybe reboot). Then open a Terminal (control+\\`) and run `ollama serve`\n",
    "\n",
    "Useful Ollama commands (run these in the terminal, or with an exclamation mark in this notebook):\n",
    "\n",
    "`ollama pull <model_name>` downloads a model locally  \n",
    "`ollama ls` lists all the models you've downloaded  \n",
    "`ollama rm <model_name>` deletes the specified model from your downloads"
   ]
  },
  {
   "cell_type": "markdown",
   "metadata": {},
   "source": [
    "<table style=\"margin: 0; text-align: left; width:100%\">\n",
    "    <tr>\n",
    "        <td style=\"width: 150px; height: 150px; vertical-align: middle;\">\n",
    "            <img src=\"../assets/stop.png\" width=\"150\" height=\"150\" style=\"display: block;\" />\n",
    "        </td>\n",
    "        <td>\n",
    "            <h2 style=\"color:#ff7800;\">Super important - ignore me at your peril!</h2>\n",
    "            <span style=\"color:#ff7800;\">The model called <b>llama3.3</b> is FAR too large for home computers - it's not intended for personal computing and will consume all your resources! Stick with the nicely sized <b>llama3.2</b> or <b>llama3.2:1b</b> and if you want larger, try llama3.1 or smaller variants of Qwen, Gemma, Phi or DeepSeek. See the <A href=\"https://ollama.com/models\">the Ollama models page</a> for a full list of models and sizes.\n",
    "            </span>\n",
    "        </td>\n",
    "    </tr>\n",
    "</table>"
   ]
  },
  {
   "cell_type": "code",
   "execution_count": null,
   "metadata": {},
   "outputs": [],
   "source": [
    "!ollama pull llama3.2"
   ]
  },
  {
   "cell_type": "code",
   "execution_count": null,
   "metadata": {},
   "outputs": [],
   "source": [
    "ollama = OpenAI(base_url='http://localhost:11434/v1', api_key='ollama')\n",
    "model_name = \"llama3.2\"\n",
    "\n",
    "response = ollama.chat.completions.create(model=model_name, messages=messages)\n",
    "answer = response.choices[0].message.content\n",
    "\n",
    "display(Markdown(answer))\n",
    "competitors.append(model_name)\n",
    "answers.append(answer)"
   ]
  },
  {
   "cell_type": "code",
   "execution_count": null,
   "metadata": {},
   "outputs": [],
   "source": [
    "# So where are we?\n",
    "\n",
    "print(competitors)\n",
    "print(answers)\n"
   ]
  },
  {
   "cell_type": "code",
   "execution_count": null,
   "metadata": {},
   "outputs": [],
   "source": [
    "# It's nice to know how to use \"zip\"\n",
    "for competitor, answer in zip(competitors, answers):\n",
    "    print(f\"Competitor: {competitor}\\n\\n{answer}\")\n"
   ]
  },
  {
   "cell_type": "code",
   "execution_count": 20,
   "metadata": {},
   "outputs": [],
   "source": [
    "# Let's bring this together - note the use of \"enumerate\"\n",
    "\n",
    "together = \"\"\n",
    "for index, answer in enumerate(answers):\n",
    "    together += f\"# Response from competitor {index+1}\\n\\n\"\n",
    "    together += answer + \"\\n\\n\""
   ]
  },
  {
   "cell_type": "code",
   "execution_count": null,
   "metadata": {},
   "outputs": [],
   "source": [
    "print(together)"
   ]
  },
  {
   "cell_type": "code",
   "execution_count": 22,
   "metadata": {},
   "outputs": [],
   "source": [
    "judge = f\"\"\"You are judging a competition between {len(competitors)} competitors.\n",
    "Each model has been given this question:\n",
    "\n",
    "{question}\n",
    "\n",
    "Your job is to evaluate each response for clarity and strength of argument, and rank them in order of best to worst.\n",
    "Respond with JSON, and only JSON, with the following format:\n",
    "{{\"results\": [\"best competitor number\", \"second best competitor number\", \"third best competitor number\", ...]}}\n",
    "\n",
    "Here are the responses from each competitor:\n",
    "\n",
    "{together}\n",
    "\n",
    "Now respond with the JSON with the ranked order of the competitors, nothing else. Do not include markdown formatting or code blocks.\"\"\"\n"
   ]
  },
  {
   "cell_type": "code",
   "execution_count": null,
   "metadata": {},
   "outputs": [],
   "source": [
    "print(judge)"
   ]
  },
  {
   "cell_type": "code",
   "execution_count": 29,
   "metadata": {},
   "outputs": [],
   "source": [
    "judge_messages = [{\"role\": \"user\", \"content\": judge}]"
   ]
  },
  {
   "cell_type": "code",
   "execution_count": null,
   "metadata": {},
   "outputs": [],
   "source": [
    "# Judgement time!\n",
    "\n",
    "openai = OpenAI()\n",
    "response = openai.chat.completions.create(\n",
    "    model=\"o3-mini\",\n",
    "    messages=judge_messages,\n",
    ")\n",
    "results = response.choices[0].message.content\n",
    "print(results)\n"
   ]
  },
  {
   "cell_type": "code",
   "execution_count": null,
   "metadata": {},
   "outputs": [],
   "source": [
    "# OK let's turn this into results!\n",
    "\n",
    "results_dict = json.loads(results)\n",
    "ranks = results_dict[\"results\"]\n",
    "for index, result in enumerate(ranks):\n",
    "    competitor = competitors[int(result)-1]\n",
    "    print(f\"Rank {index+1}: {competitor}\")"
   ]
  },
  {
   "cell_type": "markdown",
   "metadata": {},
   "source": [
    "<table style=\"margin: 0; text-align: left; width:100%\">\n",
    "    <tr>\n",
    "        <td style=\"width: 150px; height: 150px; vertical-align: middle;\">\n",
    "            <img src=\"../assets/exercise.png\" width=\"150\" height=\"150\" style=\"display: block;\" />\n",
    "        </td>\n",
    "        <td>\n",
    "            <h2 style=\"color:#ff7800;\">Exercise</h2>\n",
    "            <span style=\"color:#ff7800;\">Which pattern(s) did this use? Try updating this to add another Agentic design pattern.\n",
    "            </span>\n",
    "        </td>\n",
    "    </tr>\n",
    "</table>"
   ]
  },
  {
   "cell_type": "markdown",
   "metadata": {},
   "source": [
    "<table style=\"margin: 0; text-align: left; width:100%\">\n",
    "    <tr>\n",
    "        <td style=\"width: 150px; height: 150px; vertical-align: middle;\">\n",
    "            <img src=\"../assets/business.png\" width=\"150\" height=\"150\" style=\"display: block;\" />\n",
    "        </td>\n",
    "        <td>\n",
    "            <h2 style=\"color:#00bfff;\">Commercial implications</h2>\n",
    "            <span style=\"color:#00bfff;\">These kinds of patterns - to send a task to multiple models, and evaluate results,\n",
    "            and common where you need to improve the quality of your LLM response. This approach can be universally applied\n",
    "            to business projects where accuracy is critical.\n",
    "            </span>\n",
    "        </td>\n",
    "    </tr>\n",
    "</table>"
   ]
  }
 ],
 "metadata": {
  "kernelspec": {
   "display_name": ".venv",
   "language": "python",
   "name": "python3"
  },
  "language_info": {
   "codemirror_mode": {
    "name": "ipython",
    "version": 3
   },
   "file_extension": ".py",
   "mimetype": "text/x-python",
   "name": "python",
   "nbconvert_exporter": "python",
   "pygments_lexer": "ipython3",
   "version": "3.12.10"
  }
 },
 "nbformat": 4,
 "nbformat_minor": 2
}
