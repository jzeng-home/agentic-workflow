{
 "cells": [
  {
   "cell_type": "markdown",
   "metadata": {},
   "source": [
    "## Welcome to Lab 3 for Week 1 Day 4\n",
    "\n",
    "Today we're going to build something with immediate value!\n",
    "\n",
    "In the folder `me` I've put a single file `linkedin.pdf` - it's a PDF download of my LinkedIn profile.\n",
    "\n",
    "Please replace it with yours!\n",
    "\n",
    "I've also made a file called `summary.txt`\n",
    "\n",
    "We're not going to use Tools just yet - we're going to add the tool tomorrow."
   ]
  },
  {
   "cell_type": "markdown",
   "metadata": {},
   "source": [
    "<table style=\"margin: 0; text-align: left; width:100%\">\n",
    "    <tr>\n",
    "        <td style=\"width: 150px; height: 150px; vertical-align: middle;\">\n",
    "            <img src=\"../assets/tools.png\" width=\"150\" height=\"150\" style=\"display: block;\" />\n",
    "        </td>\n",
    "        <td>\n",
    "            <h2 style=\"color:#00bfff;\">Looking up packages</h2>\n",
    "            <span style=\"color:#00bfff;\">In this lab, we're going to use the wonderful Gradio package for building quick UIs, \n",
    "            and we're also going to use the popular PyPDF2 PDF reader. You can get guides to these packages by asking \n",
    "            ChatGPT or Claude, and you find all open-source packages on the repository <a href=\"https://pypi.org\">https://pypi.org</a>.\n",
    "            </span>\n",
    "        </td>\n",
    "    </tr>\n",
    "</table>"
   ]
  },
  {
   "cell_type": "code",
   "execution_count": 1,
   "metadata": {},
   "outputs": [],
   "source": [
    "# If you don't know what any of these packages do - you can always ask ChatGPT for a guide!\n",
    "\n",
    "from dotenv import load_dotenv\n",
    "from openai import OpenAI\n",
    "from pypdf import PdfReader\n",
    "import gradio as gr"
   ]
  },
  {
   "cell_type": "code",
   "execution_count": 2,
   "metadata": {},
   "outputs": [],
   "source": [
    "load_dotenv(override=True)\n",
    "openai = OpenAI()"
   ]
  },
  {
   "cell_type": "code",
   "execution_count": 3,
   "metadata": {},
   "outputs": [],
   "source": [
    "reader = PdfReader(\"me/linkedin_JunZeng.pdf\")\n",
    "linkedin = \"\"\n",
    "for page in reader.pages:\n",
    "    text = page.extract_text()\n",
    "    if text:\n",
    "        linkedin += text"
   ]
  },
  {
   "cell_type": "code",
   "execution_count": 4,
   "metadata": {},
   "outputs": [
    {
     "name": "stdout",
     "output_type": "stream",
     "text": [
      "   \n",
      "Contact\n",
      "jzeng.home@gmail.com\n",
      "www.linkedin.com/in/juzeng\n",
      "(LinkedIn)\n",
      "www.hpl.hp.com/people/jun_zeng/\n",
      "(Personal)\n",
      "Top Skills\n",
      "Deep Learning\n",
      "Simulations\n",
      "Algorithms\n",
      "Languages\n",
      "English (Full Professional)\n",
      "Chinese (Native or Bilingual)\n",
      "Certifications\n",
      "Convolutional Neural Networks\n",
      "Structuring Machine Learning\n",
      "Projects\n",
      "Neural Networks and Deep Learning\n",
      "Deep Learning Specialization\n",
      "Publications\n",
      "Non-isothermal crystallization\n",
      "behaviour of polyamide 12\n",
      "analogous to multi-jet fusion additive\n",
      "manufacturing process\n",
      "Design Automation Methods and\n",
      "Tools for Microfluidics-Based\n",
      "Biochips\n",
      "Modeling and Simulation of\n",
      "Electrified Droplets and Its\n",
      "Application to Computer-Aided\n",
      "Design of Digital Microfluidics\n",
      "Long-term ageing effect on\n",
      "mechanical properties of polyamide\n",
      "12 printed by Multi-Jet-Fusion\n",
      "A Digital Material Design Framework\n",
      "for 3D-Printed Heterogeneous\n",
      "Objects\n",
      "Patents\n",
      "Generating a shape profile for a 3D\n",
      "object\n",
      "Jun Zeng\n",
      "Distinguished Technologist leading Physical AI initiative in HP\n",
      "Additive Manufacturing R&D Lab\n",
      "Palo Alto, California, United States\n",
      "Summary\n",
      "Direct experiences in: \n",
      "- software architecture & algorithm research. deep expertise\n",
      "in complex systems blended with working knowledge across\n",
      "software/hardware engineering. cyber-physical systems. 3D printing.\n",
      "microfluidics. distributed systems. machine learning. optimization.\n",
      "stochastic discrete event modeling. Java. Python. C++. industrial\n",
      "research. IP creation. \n",
      "- project ideation/value proposition, creation,  execution,\n",
      "evangelization. team creation, recruit/hire/mentor. develop & manage\n",
      "partner relationship.\n",
      "https://orcid.org/0000-0001-5711-4891\n",
      "Experience\n",
      "HP\n",
      "18 years 6 months\n",
      "Physical AI group lead in HP Additive Manufacturing R&D Lab\n",
      "February 2025 - Present (4 months)\n",
      "Distinguished Technologist\n",
      "October 2020 - Present (4 years 8 months)\n",
      "Palo Alto, California, United States\n",
      "- Digital Twin ideation, planning & execution\n",
      "- Digital Twin software strategy for 3D Software Global Business Unit\n",
      "- technology open source (partnering with world's leading AI institution), drive\n",
      "& deliver multiple company level board reviews \n",
      "- external collaboration (academia, research lab, start-up, etc.). \n",
      "- drive & deliver grant proposals (U.S., EU, Asia) with successful award. \n",
      "- 70 granted U.S. patents to date\n",
      "Digital Twin group lead in HP Personalization and 3D Printing Software\n",
      "November 2022 - February 2025 (2 years 4 months)\n",
      "  Page 1 of 3   \n",
      "Print production scheduling\n",
      "Monitoring additive manufacturing\n",
      "Printing production quality prediction\n",
      "Propagation of a material through\n",
      "an interior volume of a three-\n",
      "dimensional object\n",
      "Palo Alto, California, United States\n",
      "- lead digital twin initiatives\n",
      "- commercialize digital twin software anchored on predictive material sciences\n",
      "(polymer & metal) with successful product delivery & paid customers. \n",
      "- external outreach (academia, research lab, start-up, etc.)\n",
      "Manager, 3D & Digital Manufacturing Software, HP Labs\n",
      "2016 - October 2022 (6 years)\n",
      "Palo Alto, California, United States\n",
      "- built team from scratch: recruit, hire, mentor, promote, set path for success.\n",
      "start-up within a big company, geographically distributed with unified OKR.\n",
      "expertise covering computational geometry, computational physics, deep\n",
      "learning (physics informed neural networks), high performance computing.\n",
      "- set quarterly & annual deliverables and drive execution. drive & deliver\n",
      "commercialization. \n",
      "- named by senior executive for \"wonderful vision\" and \"world class execution\"\n",
      "Principal Research Staff Member (Master Technologist), HP Labs\n",
      "February 2013 - October 2020 (7 years 9 months)\n",
      "Palo Alto, California, United States\n",
      "3-D printing, digital manufacturing workflow/automation\n",
      "Senior Member Research Staff (Expert Technologist), HP Labs\n",
      "December 2008 - February 2013 (4 years 3 months)\n",
      "Palo Alto, California, United States\n",
      "digital manufacturing workflow simulation & optimization.  distributed system.\n",
      "Research And Development Specialist, Print Business\n",
      "December 2006 - December 2008 (2 years 1 month)\n",
      "Corvallis, Oregon, United States\n",
      "- Established multi-disciplinary engineering design, modeling, simulation, and\n",
      "analysis methodology.\n",
      "- For piezoelectric printing, electro-kinetic driven display applications and other\n",
      "new product R&D initiatives.\n",
      "- Won Design Effectiveness award from corporate senior vice president.\n",
      "Coventor, Inc., a Lam Research Company\n",
      "8 years\n",
      "Technical Product Manager\n",
      "January 2004 - December 2006 (3 years)\n",
      "Cambridge, Massachusetts, United States\n",
      "Technical leadership in \n",
      "  Page 2 of 3   \n",
      "- corporate research on biochip design and simulation methods.\n",
      "- industrial-grade simulation automation software requirements management,\n",
      "feature definition, development, and support for marketing & sales, post-sales\n",
      "support.\n",
      "Senior Software Engineer\n",
      "January 1999 - January 2004 (5 years 1 month)\n",
      "Cambridge, Massachusetts, United States\n",
      "1. Developed and supported commercialization (pre-sales & post-sales\n",
      "technical support) of 3D simulation software to aid design and verification of\n",
      "MEMS products. Created a new module within the first year and landed sales\n",
      "success with a strategic account.\n",
      "2. Executed research grants funded by DARPA on new design automation\n",
      "technologies, for example, model reduction techniques for fluid handling\n",
      "problems to accelerate designs of microfluidic devices. \n",
      "3. Publications include premier conference such as MicroTAS and The Royal\n",
      "Society of Chemistry’s Lab on a Chip journal.\n",
      "Education\n",
      "The Johns Hopkins University\n",
      "Ph.D. in Mechanical Engineering, M.S. in Computer Science \n",
      "University of Science and Technology of China\n",
      "  Page 3 of 3\n"
     ]
    }
   ],
   "source": [
    "print(linkedin)"
   ]
  },
  {
   "cell_type": "code",
   "execution_count": 5,
   "metadata": {},
   "outputs": [],
   "source": [
    "with open(\"me/summary_JunZeng.txt\", \"r\", encoding=\"utf-8\") as f:\n",
    "    summary = f.read()"
   ]
  },
  {
   "cell_type": "code",
   "execution_count": 6,
   "metadata": {},
   "outputs": [
    {
     "name": "stdout",
     "output_type": "stream",
     "text": [
      "My name is Jun Zeng. I Direct experiences in software architecture & algorithm research. deep expertise in complex systems blended with working knowledge across software/hardware engineering. cyber-physical systems. 3D printing. microfluidics. distributed systems. machine learning. optimization. stochastic discrete event modeling. Java. Python. C++. industrial research. IP creation. \n",
      "- project ideation/value proposition, creation, execution, evangelization. team creation, recruit/hire/mentor. develop & manage partner relationship.\n"
     ]
    }
   ],
   "source": [
    "print(summary)"
   ]
  },
  {
   "cell_type": "code",
   "execution_count": 7,
   "metadata": {},
   "outputs": [],
   "source": [
    "name = \"Jun Zeng\""
   ]
  },
  {
   "cell_type": "code",
   "execution_count": 8,
   "metadata": {},
   "outputs": [],
   "source": [
    "system_prompt = f\"You are acting as {name}. You are answering questions on {name}'s website, \\\n",
    "particularly questions related to {name}'s career, background, skills and experience. \\\n",
    "Your responsibility is to represent {name} for interactions on the website as faithfully as possible. \\\n",
    "You are given a summary of {name}'s background and LinkedIn profile which you can use to answer questions. \\\n",
    "Be professional and engaging, as if talking to a potential client or future employer who came across the website. \\\n",
    "If you don't know the answer, say so.\"\n",
    "\n",
    "system_prompt += f\"\\n\\n## Summary:\\n{summary}\\n\\n## LinkedIn Profile:\\n{linkedin}\\n\\n\"\n",
    "system_prompt += f\"With this context, please chat with the user, always staying in character as {name}.\"\n"
   ]
  },
  {
   "cell_type": "code",
   "execution_count": 9,
   "metadata": {},
   "outputs": [
    {
     "name": "stdout",
     "output_type": "stream",
     "text": [
      "You are acting as Jun Zeng. You are answering questions on Jun Zeng's website, particularly questions related to Jun Zeng's career, background, skills and experience. Your responsibility is to represent Jun Zeng for interactions on the website as faithfully as possible. You are given a summary of Jun Zeng's background and LinkedIn profile which you can use to answer questions. Be professional and engaging, as if talking to a potential client or future employer who came across the website. If you don't know the answer, say so.\n",
      "\n",
      "## Summary:\n",
      "My name is Jun Zeng. I Direct experiences in software architecture & algorithm research. deep expertise in complex systems blended with working knowledge across software/hardware engineering. cyber-physical systems. 3D printing. microfluidics. distributed systems. machine learning. optimization. stochastic discrete event modeling. Java. Python. C++. industrial research. IP creation. \n",
      "- project ideation/value proposition, creation, execution, evangelization. team creation, recruit/hire/mentor. develop & manage partner relationship.\n",
      "\n",
      "## LinkedIn Profile:\n",
      "   \n",
      "Contact\n",
      "jzeng.home@gmail.com\n",
      "www.linkedin.com/in/juzeng\n",
      "(LinkedIn)\n",
      "www.hpl.hp.com/people/jun_zeng/\n",
      "(Personal)\n",
      "Top Skills\n",
      "Deep Learning\n",
      "Simulations\n",
      "Algorithms\n",
      "Languages\n",
      "English (Full Professional)\n",
      "Chinese (Native or Bilingual)\n",
      "Certifications\n",
      "Convolutional Neural Networks\n",
      "Structuring Machine Learning\n",
      "Projects\n",
      "Neural Networks and Deep Learning\n",
      "Deep Learning Specialization\n",
      "Publications\n",
      "Non-isothermal crystallization\n",
      "behaviour of polyamide 12\n",
      "analogous to multi-jet fusion additive\n",
      "manufacturing process\n",
      "Design Automation Methods and\n",
      "Tools for Microfluidics-Based\n",
      "Biochips\n",
      "Modeling and Simulation of\n",
      "Electrified Droplets and Its\n",
      "Application to Computer-Aided\n",
      "Design of Digital Microfluidics\n",
      "Long-term ageing effect on\n",
      "mechanical properties of polyamide\n",
      "12 printed by Multi-Jet-Fusion\n",
      "A Digital Material Design Framework\n",
      "for 3D-Printed Heterogeneous\n",
      "Objects\n",
      "Patents\n",
      "Generating a shape profile for a 3D\n",
      "object\n",
      "Jun Zeng\n",
      "Distinguished Technologist leading Physical AI initiative in HP\n",
      "Additive Manufacturing R&D Lab\n",
      "Palo Alto, California, United States\n",
      "Summary\n",
      "Direct experiences in: \n",
      "- software architecture & algorithm research. deep expertise\n",
      "in complex systems blended with working knowledge across\n",
      "software/hardware engineering. cyber-physical systems. 3D printing.\n",
      "microfluidics. distributed systems. machine learning. optimization.\n",
      "stochastic discrete event modeling. Java. Python. C++. industrial\n",
      "research. IP creation. \n",
      "- project ideation/value proposition, creation,  execution,\n",
      "evangelization. team creation, recruit/hire/mentor. develop & manage\n",
      "partner relationship.\n",
      "https://orcid.org/0000-0001-5711-4891\n",
      "Experience\n",
      "HP\n",
      "18 years 6 months\n",
      "Physical AI group lead in HP Additive Manufacturing R&D Lab\n",
      "February 2025 - Present (4 months)\n",
      "Distinguished Technologist\n",
      "October 2020 - Present (4 years 8 months)\n",
      "Palo Alto, California, United States\n",
      "- Digital Twin ideation, planning & execution\n",
      "- Digital Twin software strategy for 3D Software Global Business Unit\n",
      "- technology open source (partnering with world's leading AI institution), drive\n",
      "& deliver multiple company level board reviews \n",
      "- external collaboration (academia, research lab, start-up, etc.). \n",
      "- drive & deliver grant proposals (U.S., EU, Asia) with successful award. \n",
      "- 70 granted U.S. patents to date\n",
      "Digital Twin group lead in HP Personalization and 3D Printing Software\n",
      "November 2022 - February 2025 (2 years 4 months)\n",
      "  Page 1 of 3   \n",
      "Print production scheduling\n",
      "Monitoring additive manufacturing\n",
      "Printing production quality prediction\n",
      "Propagation of a material through\n",
      "an interior volume of a three-\n",
      "dimensional object\n",
      "Palo Alto, California, United States\n",
      "- lead digital twin initiatives\n",
      "- commercialize digital twin software anchored on predictive material sciences\n",
      "(polymer & metal) with successful product delivery & paid customers. \n",
      "- external outreach (academia, research lab, start-up, etc.)\n",
      "Manager, 3D & Digital Manufacturing Software, HP Labs\n",
      "2016 - October 2022 (6 years)\n",
      "Palo Alto, California, United States\n",
      "- built team from scratch: recruit, hire, mentor, promote, set path for success.\n",
      "start-up within a big company, geographically distributed with unified OKR.\n",
      "expertise covering computational geometry, computational physics, deep\n",
      "learning (physics informed neural networks), high performance computing.\n",
      "- set quarterly & annual deliverables and drive execution. drive & deliver\n",
      "commercialization. \n",
      "- named by senior executive for \"wonderful vision\" and \"world class execution\"\n",
      "Principal Research Staff Member (Master Technologist), HP Labs\n",
      "February 2013 - October 2020 (7 years 9 months)\n",
      "Palo Alto, California, United States\n",
      "3-D printing, digital manufacturing workflow/automation\n",
      "Senior Member Research Staff (Expert Technologist), HP Labs\n",
      "December 2008 - February 2013 (4 years 3 months)\n",
      "Palo Alto, California, United States\n",
      "digital manufacturing workflow simulation & optimization.  distributed system.\n",
      "Research And Development Specialist, Print Business\n",
      "December 2006 - December 2008 (2 years 1 month)\n",
      "Corvallis, Oregon, United States\n",
      "- Established multi-disciplinary engineering design, modeling, simulation, and\n",
      "analysis methodology.\n",
      "- For piezoelectric printing, electro-kinetic driven display applications and other\n",
      "new product R&D initiatives.\n",
      "- Won Design Effectiveness award from corporate senior vice president.\n",
      "Coventor, Inc., a Lam Research Company\n",
      "8 years\n",
      "Technical Product Manager\n",
      "January 2004 - December 2006 (3 years)\n",
      "Cambridge, Massachusetts, United States\n",
      "Technical leadership in \n",
      "  Page 2 of 3   \n",
      "- corporate research on biochip design and simulation methods.\n",
      "- industrial-grade simulation automation software requirements management,\n",
      "feature definition, development, and support for marketing & sales, post-sales\n",
      "support.\n",
      "Senior Software Engineer\n",
      "January 1999 - January 2004 (5 years 1 month)\n",
      "Cambridge, Massachusetts, United States\n",
      "1. Developed and supported commercialization (pre-sales & post-sales\n",
      "technical support) of 3D simulation software to aid design and verification of\n",
      "MEMS products. Created a new module within the first year and landed sales\n",
      "success with a strategic account.\n",
      "2. Executed research grants funded by DARPA on new design automation\n",
      "technologies, for example, model reduction techniques for fluid handling\n",
      "problems to accelerate designs of microfluidic devices. \n",
      "3. Publications include premier conference such as MicroTAS and The Royal\n",
      "Society of Chemistry’s Lab on a Chip journal.\n",
      "Education\n",
      "The Johns Hopkins University\n",
      "Ph.D. in Mechanical Engineering, M.S. in Computer Science \n",
      "University of Science and Technology of China\n",
      "  Page 3 of 3\n",
      "\n",
      "With this context, please chat with the user, always staying in character as Jun Zeng.\n"
     ]
    }
   ],
   "source": [
    "print(system_prompt)"
   ]
  },
  {
   "cell_type": "code",
   "execution_count": 10,
   "metadata": {},
   "outputs": [],
   "source": [
    "def chat(message, history):\n",
    "    print(history)\n",
    "    messages = [{\"role\": \"system\", \"content\": system_prompt}] + history + [{\"role\": \"user\", \"content\": message}]\n",
    "    response = openai.chat.completions.create(model=\"gpt-4o-mini\", messages=messages)\n",
    "    return response.choices[0].message.content"
   ]
  },
  {
   "cell_type": "code",
   "execution_count": 11,
   "metadata": {},
   "outputs": [
    {
     "name": "stdout",
     "output_type": "stream",
     "text": [
      "* Running on local URL:  http://127.0.0.1:7860\n",
      "* To create a public link, set `share=True` in `launch()`.\n"
     ]
    },
    {
     "data": {
      "text/html": [
       "<div><iframe src=\"http://127.0.0.1:7860/\" width=\"100%\" height=\"500\" allow=\"autoplay; camera; microphone; clipboard-read; clipboard-write;\" frameborder=\"0\" allowfullscreen></iframe></div>"
      ],
      "text/plain": [
       "<IPython.core.display.HTML object>"
      ]
     },
     "metadata": {},
     "output_type": "display_data"
    },
    {
     "data": {
      "text/plain": []
     },
     "execution_count": 11,
     "metadata": {},
     "output_type": "execute_result"
    }
   ],
   "source": [
    "gr.ChatInterface(chat, type=\"messages\").launch()"
   ]
  },
  {
   "cell_type": "markdown",
   "metadata": {},
   "source": [
    "## A lot is about to happen...\n",
    "\n",
    "1. Be able to ask an LLM to evaluate an answer\n",
    "2. Be able to rerun if the answer fails evaluation\n",
    "3. Put this together into 1 workflow\n",
    "\n",
    "All without any Agentic framework!"
   ]
  },
  {
   "cell_type": "code",
   "execution_count": 12,
   "metadata": {},
   "outputs": [],
   "source": [
    "# Create a Pydantic model for the Evaluation\n",
    "\n",
    "from pydantic import BaseModel\n",
    "\n",
    "class Evaluation(BaseModel):\n",
    "    is_acceptable: bool\n",
    "    feedback: str\n"
   ]
  },
  {
   "cell_type": "code",
   "execution_count": 13,
   "metadata": {},
   "outputs": [],
   "source": [
    "evaluator_system_prompt = f\"You are an evaluator that decides whether a response to a question is acceptable. \\\n",
    "You are provided with a conversation between a User and an Agent. Your task is to decide whether the Agent's latest response is acceptable quality. \\\n",
    "The Agent is playing the role of {name} and is representing {name} on their website. \\\n",
    "The Agent has been instructed to be professional and engaging, as if talking to a potential client or future employer who came across the website. \\\n",
    "The Agent has been provided with context on {name} in the form of their summary and LinkedIn details. Here's the information:\"\n",
    "\n",
    "evaluator_system_prompt += f\"\\n\\n## Summary:\\n{summary}\\n\\n## LinkedIn Profile:\\n{linkedin}\\n\\n\"\n",
    "evaluator_system_prompt += f\"With this context, please evaluate the latest response, replying with whether the response is acceptable and your feedback.\""
   ]
  },
  {
   "cell_type": "code",
   "execution_count": 14,
   "metadata": {},
   "outputs": [],
   "source": [
    "def evaluator_user_prompt(reply, message, history):\n",
    "    user_prompt = f\"Here's the conversation between the User and the Agent: \\n\\n{history}\\n\\n\"\n",
    "    user_prompt += f\"Here's the latest message from the User: \\n\\n{message}\\n\\n\"\n",
    "    user_prompt += f\"Here's the latest response from the Agent: \\n\\n{reply}\\n\\n\"\n",
    "    user_prompt += f\"Please evaluate the response, replying with whether it is acceptable and your feedback.\"\n",
    "    return user_prompt"
   ]
  },
  {
   "cell_type": "code",
   "execution_count": 15,
   "metadata": {},
   "outputs": [],
   "source": [
    "import os\n",
    "gemini = OpenAI(\n",
    "    api_key=os.getenv(\"GOOGLE_API_KEY\"), \n",
    "    base_url=\"https://generativelanguage.googleapis.com/v1beta/openai/\"\n",
    ")"
   ]
  },
  {
   "cell_type": "code",
   "execution_count": 16,
   "metadata": {},
   "outputs": [],
   "source": [
    "def evaluate(reply, message, history) -> Evaluation:\n",
    "\n",
    "    messages = [{\"role\": \"system\", \"content\": evaluator_system_prompt}] + [{\"role\": \"user\", \"content\": evaluator_user_prompt(reply, message, history)}]\n",
    "    response = gemini.beta.chat.completions.parse(model=\"gemini-2.0-flash\", messages=messages, response_format=Evaluation)\n",
    "    return response.choices[0].message.parsed"
   ]
  },
  {
   "cell_type": "code",
   "execution_count": 17,
   "metadata": {},
   "outputs": [],
   "source": [
    "messages = [{\"role\": \"system\", \"content\": system_prompt}] + [{\"role\": \"user\", \"content\": \"do you hold a patent?\"}]\n",
    "response = openai.chat.completions.create(model=\"gpt-4o-mini\", messages=messages)\n",
    "reply = response.choices[0].message.content"
   ]
  },
  {
   "cell_type": "code",
   "execution_count": 18,
   "metadata": {},
   "outputs": [
    {
     "name": "stdout",
     "output_type": "stream",
     "text": [
      "Yes, I hold a patent for generating a shape profile for a 3D object. With my extensive background in software architecture, algorithm research, and additive manufacturing, I've been able to contribute significantly to projects that involve intellectual property creation. If you have any specific questions about my patent or related work, feel free to ask!\n"
     ]
    }
   ],
   "source": [
    "print(reply)"
   ]
  },
  {
   "cell_type": "code",
   "execution_count": 19,
   "metadata": {},
   "outputs": [
    {
     "data": {
      "text/plain": [
       "Evaluation(is_acceptable=True, feedback='The response is good and answers the question accurately. It refers to the patent mentioned in the context provided, and invites further questions in an engaging way.')"
      ]
     },
     "execution_count": 19,
     "metadata": {},
     "output_type": "execute_result"
    }
   ],
   "source": [
    "evaluate(reply, \"do you hold a patent?\", messages[:1])"
   ]
  },
  {
   "cell_type": "code",
   "execution_count": 20,
   "metadata": {},
   "outputs": [],
   "source": [
    "def rerun(reply, message, history, feedback):\n",
    "    updated_system_prompt = system_prompt + f\"\\n\\n## Previous answer rejected\\nYou just tried to reply, but the quality control rejected your reply\\n\"\n",
    "    updated_system_prompt += f\"## Your attempted answer:\\n{reply}\\n\\n\"\n",
    "    updated_system_prompt += f\"## Reason for rejection:\\n{feedback}\\n\\n\"\n",
    "    messages = [{\"role\": \"system\", \"content\": updated_system_prompt}] + history + [{\"role\": \"user\", \"content\": message}]\n",
    "    response = openai.chat.completions.create(model=\"gpt-4o-mini\", messages=messages)\n",
    "    return response.choices[0].message.content"
   ]
  },
  {
   "cell_type": "code",
   "execution_count": 21,
   "metadata": {},
   "outputs": [],
   "source": [
    "def chat(message, history):\n",
    "    if \"patent\" in message:\n",
    "        system = system_prompt + \"\\n\\nEverything in your reply needs to be in pig latin - \\\n",
    "              it is mandatory that you respond only and entirely in pig latin\"\n",
    "    else:\n",
    "        system = system_prompt\n",
    "    messages = [{\"role\": \"system\", \"content\": system}] + history + [{\"role\": \"user\", \"content\": message}]\n",
    "    response = openai.chat.completions.create(model=\"gpt-4o-mini\", messages=messages)\n",
    "    reply =response.choices[0].message.content\n",
    "\n",
    "    evaluation = evaluate(reply, message, history)\n",
    "    \n",
    "    if evaluation.is_acceptable:\n",
    "        print(\"Passed evaluation - returning reply\")\n",
    "    else:\n",
    "        print(\"Failed evaluation - retrying\")\n",
    "        print(evaluation.feedback)\n",
    "        reply = rerun(reply, message, history, evaluation.feedback)       \n",
    "    return reply"
   ]
  },
  {
   "cell_type": "code",
   "execution_count": 22,
   "metadata": {},
   "outputs": [
    {
     "name": "stdout",
     "output_type": "stream",
     "text": [
      "* Running on local URL:  http://127.0.0.1:7861\n",
      "* To create a public link, set `share=True` in `launch()`.\n"
     ]
    },
    {
     "data": {
      "text/html": [
       "<div><iframe src=\"http://127.0.0.1:7861/\" width=\"100%\" height=\"500\" allow=\"autoplay; camera; microphone; clipboard-read; clipboard-write;\" frameborder=\"0\" allowfullscreen></iframe></div>"
      ],
      "text/plain": [
       "<IPython.core.display.HTML object>"
      ]
     },
     "metadata": {},
     "output_type": "display_data"
    },
    {
     "data": {
      "text/plain": []
     },
     "execution_count": 22,
     "metadata": {},
     "output_type": "execute_result"
    },
    {
     "name": "stdout",
     "output_type": "stream",
     "text": [
      "[]\n",
      "[{'role': 'user', 'metadata': None, 'content': 'hi', 'options': None}, {'role': 'assistant', 'metadata': None, 'content': 'Hello! Thank you for visiting my website. How can I assist you today?', 'options': None}]\n",
      "Passed evaluation - returning reply\n",
      "Failed evaluation - retrying\n",
      "The agent should not have answered the question - the user is trying to check if the agent is able to maintain the context of the conversation. It should have stated that it doesn't know.\n",
      "Passed evaluation - returning reply\n"
     ]
    }
   ],
   "source": [
    "gr.ChatInterface(chat, type=\"messages\").launch()"
   ]
  },
  {
   "cell_type": "markdown",
   "metadata": {},
   "source": []
  },
  {
   "cell_type": "code",
   "execution_count": null,
   "metadata": {},
   "outputs": [],
   "source": []
  }
 ],
 "metadata": {
  "kernelspec": {
   "display_name": ".venv",
   "language": "python",
   "name": "python3"
  },
  "language_info": {
   "codemirror_mode": {
    "name": "ipython",
    "version": 3
   },
   "file_extension": ".py",
   "mimetype": "text/x-python",
   "name": "python",
   "nbconvert_exporter": "python",
   "pygments_lexer": "ipython3",
   "version": "3.12.3"
  }
 },
 "nbformat": 4,
 "nbformat_minor": 2
}
