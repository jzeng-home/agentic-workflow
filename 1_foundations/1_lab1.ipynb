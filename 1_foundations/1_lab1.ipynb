{
 "cells": [
  {
   "cell_type": "markdown",
   "metadata": {},
   "source": [
    "# Welcome to the start of your adventure in Agentic AI"
   ]
  },
  {
   "cell_type": "markdown",
   "metadata": {},
   "source": [
    "<table style=\"margin: 0; text-align: left; width:100%\">\n",
    "    <tr>\n",
    "        <td style=\"width: 150px; height: 150px; vertical-align: middle;\">\n",
    "            <img src=\"../assets/stop.png\" width=\"150\" height=\"150\" style=\"display: block;\" />\n",
    "        </td>\n",
    "        <td>\n",
    "            <h2 style=\"color:#ff7800;\">Are you ready for action??</h2>\n",
    "            <span style=\"color:#ff7800;\">Have you completed all the setup steps in the <a href=\"../setup/\">setup</a> folder?<br/>\n",
    "            Have you checked out the guides in the <a href=\"../guides/01_intro.ipynb\">guides</a> folder?<br/>\n",
    "            Well in that case, you're ready!!\n",
    "            </span>\n",
    "        </td>\n",
    "    </tr>\n",
    "</table>"
   ]
  },
  {
   "cell_type": "markdown",
   "metadata": {},
   "source": [
    "<table style=\"margin: 0; text-align: left; width:100%\">\n",
    "    <tr>\n",
    "        <td style=\"width: 150px; height: 150px; vertical-align: middle;\">\n",
    "            <img src=\"../assets/tools.png\" width=\"150\" height=\"150\" style=\"display: block;\" />\n",
    "        </td>\n",
    "        <td>\n",
    "            <h2 style=\"color:#00bfff;\">Treat these labs as a resource</h2>\n",
    "            <span style=\"color:#00bfff;\">I push updates to the code regularly. When people ask questions or have problems, I incorporate it in the code, adding more examples or improved commentary. As a result, you'll notice that the code below isn't identical to the videos. Everything from the videos is here; but in addition, I've added more steps and better explanations. Consider this like an interactive book that accompanies the lectures.\n",
    "            </span>\n",
    "        </td>\n",
    "    </tr>\n",
    "</table>"
   ]
  },
  {
   "cell_type": "markdown",
   "metadata": {},
   "source": [
    "### And please do remember to contact me if I can help\n",
    "\n",
    "And I love to connect: https://www.linkedin.com/in/eddonner/\n",
    "\n",
    "\n",
    "### New to Notebooks like this one? Head over to the guides folder!\n",
    "\n",
    "Just to check you've already added the Python and Jupyter extensions to Cursor, if not already installed:\n",
    "- Open extensions (View >> extensions)\n",
    "- Search for python, and when the results show, click on the ms-python one, and Install it if not already installed\n",
    "- Search for jupyter, and when the results show, click on the Microsoft one, and Install it if not already installed  \n",
    "Then View >> Explorer to bring back the File Explorer.\n",
    "\n",
    "And then:\n",
    "1. Click where it says \"Select Kernel\" near the top right, and select the option called `.venv (Python 3.12.9)` or similar, which should be the first choice or the most prominent choice. You may need to choose \"Python Environments\" first.\n",
    "2. Click in each \"cell\" below, starting with the cell immediately below this text, and press Shift+Enter to run\n",
    "3. Enjoy!\n",
    "\n",
    "After you click \"Select Kernel\", if there is no option like `.venv (Python 3.12.9)` then please do the following:  \n",
    "1. On Mac: From the Cursor menu, choose Settings >> VS Code Settings (NOTE: be sure to select `VSCode Settings` not `Cursor Settings`);  \n",
    "On Windows PC: From the File menu, choose Preferences >> VS Code Settings(NOTE: be sure to select `VSCode Settings` not `Cursor Settings`)  \n",
    "2. In the Settings search bar, type \"venv\"  \n",
    "3. In the field \"Path to folder with a list of Virtual Environments\" put the path to the project root, like C:\\Users\\username\\projects\\agents (on a Windows PC) or /Users/username/projects/agents (on Mac or Linux).  \n",
    "And then try again.\n",
    "\n",
    "Having problems with missing Python versions in that list? Have you ever used Anaconda before? It might be interferring. Quit Cursor, bring up a new command line, and make sure that your Anaconda environment is deactivated:    \n",
    "`conda deactivate`  \n",
    "And if you still have any problems with conda and python versions, it's possible that you will need to run this too:  \n",
    "`conda config --set auto_activate_base false`  \n",
    "and then from within the Agents directory, you should be able to run `uv python list` and see the Python 3.12 version."
   ]
  },
  {
   "cell_type": "code",
   "execution_count": 1,
   "metadata": {},
   "outputs": [],
   "source": [
    "# First let's do an import\n",
    "from dotenv import load_dotenv\n"
   ]
  },
  {
   "cell_type": "code",
   "execution_count": 2,
   "metadata": {},
   "outputs": [
    {
     "data": {
      "text/plain": [
       "True"
      ]
     },
     "execution_count": 2,
     "metadata": {},
     "output_type": "execute_result"
    }
   ],
   "source": [
    "# Next it's time to load the API keys into environment variables\n",
    "\n",
    "load_dotenv(override=True)"
   ]
  },
  {
   "cell_type": "code",
   "execution_count": null,
   "metadata": {},
   "outputs": [],
   "source": []
  },
  {
   "cell_type": "code",
   "execution_count": 3,
   "metadata": {},
   "outputs": [
    {
     "name": "stdout",
     "output_type": "stream",
     "text": [
      "OpenAI API Key exists and begins sk-proj-\n"
     ]
    }
   ],
   "source": [
    "# Check the keys\n",
    "\n",
    "import os\n",
    "openai_api_key = os.getenv('OPENAI_API_KEY')\n",
    "\n",
    "if openai_api_key:\n",
    "    print(f\"OpenAI API Key exists and begins {openai_api_key[:8]}\")\n",
    "else:\n",
    "    print(\"OpenAI API Key not set - please head to the troubleshooting guide in the setup folder\")\n",
    "    \n"
   ]
  },
  {
   "cell_type": "code",
   "execution_count": 4,
   "metadata": {},
   "outputs": [],
   "source": [
    "# And now - the all important import statement\n",
    "# If you get an import error - head over to troubleshooting guide\n",
    "\n",
    "from openai import OpenAI"
   ]
  },
  {
   "cell_type": "code",
   "execution_count": 5,
   "metadata": {},
   "outputs": [],
   "source": [
    "# And now we'll create an instance of the OpenAI class\n",
    "# If you're not sure what it means to create an instance of a class - head over to the guides folder!\n",
    "# If you get a NameError - head over to the guides folder to learn about NameErrors\n",
    "\n",
    "openai = OpenAI()"
   ]
  },
  {
   "cell_type": "code",
   "execution_count": 6,
   "metadata": {},
   "outputs": [],
   "source": [
    "# Create a list of messages in the familiar OpenAI format\n",
    "\n",
    "messages = [{\"role\": \"user\", \"content\": \"What is 2+2?\"}]"
   ]
  },
  {
   "cell_type": "code",
   "execution_count": 7,
   "metadata": {},
   "outputs": [
    {
     "name": "stdout",
     "output_type": "stream",
     "text": [
      "2 + 2 equals 4.\n"
     ]
    }
   ],
   "source": [
    "# And now call it! Any problems, head to the troubleshooting guide\n",
    "# This uses GPT 4.1 nano, the incredibly cheap model\n",
    "\n",
    "response = openai.chat.completions.create(\n",
    "    model=\"gpt-4.1-nano\",\n",
    "    messages=messages\n",
    ")\n",
    "\n",
    "print(response.choices[0].message.content)\n"
   ]
  },
  {
   "cell_type": "code",
   "execution_count": 8,
   "metadata": {},
   "outputs": [],
   "source": [
    "# And now - let's ask for a question:\n",
    "\n",
    "question = \"Please propose a hard, challenging question to assess someone's IQ. Respond only with the question.\"\n",
    "messages = [{\"role\": \"user\", \"content\": question}]\n"
   ]
  },
  {
   "cell_type": "code",
   "execution_count": 9,
   "metadata": {},
   "outputs": [
    {
     "name": "stdout",
     "output_type": "stream",
     "text": [
      "If two vehicles start from the same point and travel in opposite directions, one at 60 miles per hour and the other at 40 miles per hour, after how many hours will the distance between them be equal to the number of miles they would cover if both traveled towards each other at the average of their two speeds for the same amount of time?\n"
     ]
    }
   ],
   "source": [
    "# ask it - this uses GPT 4.1 mini, still cheap but more powerful than nano\n",
    "\n",
    "response = openai.chat.completions.create(\n",
    "    model=\"gpt-4.1-mini\",\n",
    "    messages=messages\n",
    ")\n",
    "\n",
    "question = response.choices[0].message.content\n",
    "\n",
    "print(question)\n"
   ]
  },
  {
   "cell_type": "code",
   "execution_count": 10,
   "metadata": {},
   "outputs": [],
   "source": [
    "# form a new messages list\n",
    "messages = [{\"role\": \"user\", \"content\": question}]\n"
   ]
  },
  {
   "cell_type": "code",
   "execution_count": 11,
   "metadata": {},
   "outputs": [
    {
     "name": "stdout",
     "output_type": "stream",
     "text": [
      "Let's break down the problem step-by-step:\n",
      "\n",
      "### Given:\n",
      "- Two vehicles start from the same point.\n",
      "- They travel in opposite directions.\n",
      "- Speed of the first vehicle: 60 mph\n",
      "- Speed of the second vehicle: 40 mph\n",
      "\n",
      "### What we want to find:\n",
      "- After how many hours \\( t \\) will the distance between them (when traveling in opposite directions) be **equal** to the distance they would cover together if they traveled **towards each other** at the average speed of their two speeds for the same time \\( t \\).\n",
      "\n",
      "---\n",
      "\n",
      "### Step 1: Define the average speed\n",
      "The average of their speeds:\n",
      "\\[\n",
      "\\text{Average speed} = \\frac{60 + 40}{2} = \\frac{100}{2} = 50 \\text{ mph}\n",
      "\\]\n",
      "\n",
      "---\n",
      "\n",
      "### Step 2: Distance between vehicles traveling opposite directions after time \\( t \\)\n",
      "When traveling in opposite directions, their distances add up:\n",
      "\\[\n",
      "\\text{Distance apart} = 60t + 40t = 100t\n",
      "\\]\n",
      "\n",
      "---\n",
      "\n",
      "### Step 3: Distance covered if traveling towards each other at average speed\n",
      "Their combined speed going towards each other is the average speed times 2 (because they are moving towards each other, so combined closing speed would normally be \\(60 + 40 = 100\\), but the problem says they travel **together at the average**, meaning both are moving at 50 mph each towards each other):\n",
      "\n",
      "- Each travels at 50 mph towards each other.\n",
      "- So closing speed = \\(50 + 50 = 100\\) mph.\n",
      "- Distance covered in time \\(t\\) when going towards each other at average speeds:\n",
      "\\[\n",
      "\\text{Distance} = 100t\n",
      "\\]\n",
      "\n",
      "---\n",
      "\n",
      "### Step 4: Equate the two distances\n",
      "- Distance apart when going opposite ways is \\(100t\\).\n",
      "- Distance covered when going towards each other at average speeds for time \\(t\\) is \\(100t\\).\n",
      "  \n",
      "\\[\n",
      "100t = 100t\n",
      "\\]\n",
      "\n",
      "This is true for **all** \\( t > 0 \\).\n",
      "\n",
      "---\n",
      "\n",
      "### Conclusion:\n",
      "The distance between the two vehicles when traveling in opposite directions at 60 mph and 40 mph is **always equal** to the distance they would cover traveling towards each other at the average speed of their two speeds (50 mph each) for the same time.\n",
      "\n",
      "**Therefore, the distance between them is equal for all times \\( t \\).** \n",
      "\n",
      "If the question intends to ask at what time \\( t \\) this will happen, the answer is:\n",
      "\n",
      "\\[\n",
      "\\boxed{\\text{For all times } t \\geq 0, \\text{ the distances are equal.}}\n",
      "\\]\n",
      "\n",
      "---\n",
      "\n",
      "### Additional note:\n",
      "- This equality arises because the sum of their speeds when traveling opposite is \\(60 + 40 = 100\\).\n",
      "- When going towards each other, if both travel at the average speed, their closing speed is also \\(50 + 50 = 100\\).\n",
      "- Both scenarios produce total distance \\(100t\\) after time \\( t \\).\n"
     ]
    }
   ],
   "source": [
    "# Ask it again\n",
    "\n",
    "response = openai.chat.completions.create(\n",
    "    model=\"gpt-4.1-mini\",\n",
    "    messages=messages\n",
    ")\n",
    "\n",
    "answer = response.choices[0].message.content\n",
    "print(answer)\n"
   ]
  },
  {
   "cell_type": "code",
   "execution_count": 12,
   "metadata": {},
   "outputs": [
    {
     "data": {
      "text/markdown": [
       "Let's break down the problem step-by-step:\n",
       "\n",
       "### Given:\n",
       "- Two vehicles start from the same point.\n",
       "- They travel in opposite directions.\n",
       "- Speed of the first vehicle: 60 mph\n",
       "- Speed of the second vehicle: 40 mph\n",
       "\n",
       "### What we want to find:\n",
       "- After how many hours \\( t \\) will the distance between them (when traveling in opposite directions) be **equal** to the distance they would cover together if they traveled **towards each other** at the average speed of their two speeds for the same time \\( t \\).\n",
       "\n",
       "---\n",
       "\n",
       "### Step 1: Define the average speed\n",
       "The average of their speeds:\n",
       "\\[\n",
       "\\text{Average speed} = \\frac{60 + 40}{2} = \\frac{100}{2} = 50 \\text{ mph}\n",
       "\\]\n",
       "\n",
       "---\n",
       "\n",
       "### Step 2: Distance between vehicles traveling opposite directions after time \\( t \\)\n",
       "When traveling in opposite directions, their distances add up:\n",
       "\\[\n",
       "\\text{Distance apart} = 60t + 40t = 100t\n",
       "\\]\n",
       "\n",
       "---\n",
       "\n",
       "### Step 3: Distance covered if traveling towards each other at average speed\n",
       "Their combined speed going towards each other is the average speed times 2 (because they are moving towards each other, so combined closing speed would normally be \\(60 + 40 = 100\\), but the problem says they travel **together at the average**, meaning both are moving at 50 mph each towards each other):\n",
       "\n",
       "- Each travels at 50 mph towards each other.\n",
       "- So closing speed = \\(50 + 50 = 100\\) mph.\n",
       "- Distance covered in time \\(t\\) when going towards each other at average speeds:\n",
       "\\[\n",
       "\\text{Distance} = 100t\n",
       "\\]\n",
       "\n",
       "---\n",
       "\n",
       "### Step 4: Equate the two distances\n",
       "- Distance apart when going opposite ways is \\(100t\\).\n",
       "- Distance covered when going towards each other at average speeds for time \\(t\\) is \\(100t\\).\n",
       "  \n",
       "\\[\n",
       "100t = 100t\n",
       "\\]\n",
       "\n",
       "This is true for **all** \\( t > 0 \\).\n",
       "\n",
       "---\n",
       "\n",
       "### Conclusion:\n",
       "The distance between the two vehicles when traveling in opposite directions at 60 mph and 40 mph is **always equal** to the distance they would cover traveling towards each other at the average speed of their two speeds (50 mph each) for the same time.\n",
       "\n",
       "**Therefore, the distance between them is equal for all times \\( t \\).** \n",
       "\n",
       "If the question intends to ask at what time \\( t \\) this will happen, the answer is:\n",
       "\n",
       "\\[\n",
       "\\boxed{\\text{For all times } t \\geq 0, \\text{ the distances are equal.}}\n",
       "\\]\n",
       "\n",
       "---\n",
       "\n",
       "### Additional note:\n",
       "- This equality arises because the sum of their speeds when traveling opposite is \\(60 + 40 = 100\\).\n",
       "- When going towards each other, if both travel at the average speed, their closing speed is also \\(50 + 50 = 100\\).\n",
       "- Both scenarios produce total distance \\(100t\\) after time \\( t \\)."
      ],
      "text/plain": [
       "<IPython.core.display.Markdown object>"
      ]
     },
     "metadata": {},
     "output_type": "display_data"
    }
   ],
   "source": [
    "from IPython.display import Markdown, display\n",
    "\n",
    "display(Markdown(answer))\n",
    "\n"
   ]
  },
  {
   "cell_type": "markdown",
   "metadata": {},
   "source": [
    "# Congratulations!\n",
    "\n",
    "That was a small, simple step in the direction of Agentic AI, with your new environment!\n",
    "\n",
    "Next time things get more interesting..."
   ]
  },
  {
   "cell_type": "markdown",
   "metadata": {},
   "source": [
    "<table style=\"margin: 0; text-align: left; width:100%\">\n",
    "    <tr>\n",
    "        <td style=\"width: 150px; height: 150px; vertical-align: middle;\">\n",
    "            <img src=\"../assets/exercise.png\" width=\"150\" height=\"150\" style=\"display: block;\" />\n",
    "        </td>\n",
    "        <td>\n",
    "            <h2 style=\"color:#ff7800;\">Exercise</h2>\n",
    "            <span style=\"color:#ff7800;\">Now try this commercial application:<br/>\n",
    "            First ask the LLM to pick a business area that might be worth exploring for an Agentic AI opportunity.<br/>\n",
    "            Then ask the LLM to present a pain-point in that industry - something challenging .that might be ripe for an Agentic solution<br/>\n",
    "            Finally have 3 third LLM call propose the Agentic AI solution.\n",
    "            </span>\n",
    "        </td>\n",
    "    </tr>\n",
    "</table>"
   ]
  },
  {
   "cell_type": "code",
   "execution_count": 13,
   "metadata": {},
   "outputs": [
    {
     "name": "stdout",
     "output_type": "stream",
     "text": [
      "area= Healthcare diagnostics and personalized treatment planning\n",
      "question= what is the pain point in Healthcare diagnostics and personalized treatment planning that might be ripe for an Agentic solution. Respond only with the pain point, be concise.\n",
      "painpoint= Fragmented patient data leading to delayed or inaccurate diagnostics and suboptimal personalized treatment planning.\n",
      "question= In the business of Healthcare diagnostics and personalized treatment planning we face the significant challenge in Fragmented patient data leading to delayed or inaccurate diagnostics and suboptimal personalized treatment planning.  We believe there are great ideas to create agentic solutions to solve this challenge.             Could you find two such great ideas? Please respond only the ideas as list.\n",
      "ideas= 1. Develop an AI-powered unified patient data platform that aggregates and harmonizes data from various sources (EHRs, lab reports, imaging, wearable devices) in real-time, providing clinicians with a comprehensive, accurate, and up-to-date patient profile to enhance diagnostic accuracy and personalize treatment plans promptly.\n",
      "\n",
      "2. Implement intelligent clinical decision support agents that analyze integrated patient data using machine learning algorithms to generate personalized diagnostic insights and treatment recommendations, continuously learning from outcomes to improve precision and reduce delays in care delivery.\n"
     ]
    }
   ],
   "source": [
    "# First create the messages:\n",
    "\n",
    "question = \"could you pick a business area that might be worth exploring for an Agentic AI opportunity, for example, in advanced manufacturing, please respond only with the business area\"\n",
    "messages = [{\"role\": \"user\", \"content\": question}]\n",
    "\n",
    "response = openai.chat.completions.create(\n",
    "    model=\"gpt-4.1-mini\",\n",
    "    messages=messages\n",
    ")\n",
    "\n",
    "area = response.choices[0].message.content\n",
    "\n",
    "print(\"area=\", area)\n",
    "\n",
    "question=\"what is the pain point in \" + area +\" that might be ripe for an Agentic solution. Respond only with the pain point, be concise.\"\n",
    "messages = [{\"role\":\"user\", \"content\":question}]\n",
    "response = openai.chat.completions.create(\n",
    "    model=\"gpt-4.1-mini\",\n",
    "    messages=messages\n",
    ")\n",
    "\n",
    "painpoint = response.choices[0].message.content\n",
    "\n",
    "print(\"question=\", question)\n",
    "print(\"painpoint=\", painpoint)\n",
    "\n",
    "question = \"In the business of \" + area +\" we face the significant challenge in \" + painpoint \\\n",
    "    + \"  We believe there are great ideas to create agentic solutions to solve this challenge. \\\n",
    "            Could you find two such great ideas? Please respond only the ideas as list.\"\n",
    "messages =[{\"role\":\"user\", \"content\":question}]\n",
    "response = openai.chat.completions.create(\n",
    "    model=\"gpt-4.1-mini\",\n",
    "    messages=messages\n",
    ")\n",
    "\n",
    "ideas = response.choices[0].message.content\n",
    "\n",
    "print(\"question=\", question)\n",
    "print(\"ideas=\", ideas)"
   ]
  },
  {
   "cell_type": "code",
   "execution_count": 14,
   "metadata": {},
   "outputs": [
    {
     "name": "stdout",
     "output_type": "stream",
     "text": [
      "question= what is the pain point in Healthcare diagnostics and personalized treatment planning that might be ripe for an Agentic solution. Respond only with the pain point, be concise.\n",
      "painpoint= Fragmented patient data leading to delayed, inaccurate diagnoses and suboptimal personalized treatment plans.\n"
     ]
    }
   ],
   "source": [
    "question=\"what is the pain point in \" + area +\" that might be ripe for an Agentic solution. Respond only with the pain point, be concise.\"\n",
    "messages = [{\"role\":\"user\", \"content\":question}]\n",
    "response = openai.chat.completions.create(\n",
    "    model=\"gpt-4.1-mini\",\n",
    "    messages=messages\n",
    ")\n",
    "\n",
    "painpoint = response.choices[0].message.content\n",
    "\n",
    "print(\"question=\", question)\n",
    "print(\"painpoint=\", painpoint)"
   ]
  },
  {
   "cell_type": "code",
   "execution_count": 15,
   "metadata": {},
   "outputs": [
    {
     "name": "stdout",
     "output_type": "stream",
     "text": [
      "question= In the business of Healthcare diagnostics and personalized treatment planning we face the significant challenge in Fragmented patient data leading to delayed, inaccurate diagnoses and suboptimal personalized treatment plans.  We believe there are great ideas to create agentic solutions to solve this challenge.             Could you find two such great ideas? Please respond only the ideas as list.\n",
      "ideas= 1. Develop an AI-powered unified patient data platform that aggregates and harmonizes disparate healthcare records in real-time, providing clinicians with comprehensive, up-to-date patient profiles to enhance diagnostic accuracy and enable precise personalized treatment planning.\n",
      "\n",
      "2. Create intelligent virtual health agents that proactively analyze integrated patient data, generate diagnostic hypotheses, recommend personalized treatment options, and continuously learn from patient outcomes to refine future clinical decisions.\n"
     ]
    }
   ],
   "source": [
    "question = \"In the business of \" + area +\" we face the significant challenge in \" + painpoint \\\n",
    "    + \"  We believe there are great ideas to create agentic solutions to solve this challenge. \\\n",
    "            Could you find two such great ideas? Please respond only the ideas as list.\"\n",
    "messages =[{\"role\":\"user\", \"content\":question}]\n",
    "response = openai.chat.completions.create(\n",
    "    model=\"gpt-4.1-mini\",\n",
    "    messages=messages\n",
    ")\n",
    "\n",
    "ideas = response.choices[0].message.content\n",
    "\n",
    "print(\"question=\", question)\n",
    "print(\"ideas=\", ideas)"
   ]
  },
  {
   "cell_type": "code",
   "execution_count": null,
   "metadata": {},
   "outputs": [],
   "source": []
  },
  {
   "cell_type": "markdown",
   "metadata": {},
   "source": []
  }
 ],
 "metadata": {
  "kernelspec": {
   "display_name": ".venv",
   "language": "python",
   "name": "python3"
  },
  "language_info": {
   "codemirror_mode": {
    "name": "ipython",
    "version": 3
   },
   "file_extension": ".py",
   "mimetype": "text/x-python",
   "name": "python",
   "nbconvert_exporter": "python",
   "pygments_lexer": "ipython3",
   "version": "3.12.3"
  }
 },
 "nbformat": 4,
 "nbformat_minor": 2
}
